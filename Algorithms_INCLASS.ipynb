{
 "cells": [
  {
   "cell_type": "markdown",
   "metadata": {},
   "source": [
    "# Algorithms, Binary Search & Linked Lists"
   ]
  },
  {
   "cell_type": "markdown",
   "metadata": {},
   "source": [
    "## Tasks Today:\n",
    " \n",
    "1) <b>In-Place Algorithms</b> <br>\n",
    " &nbsp;&nbsp;&nbsp;&nbsp; a) Syntax <br>\n",
    " &nbsp;&nbsp;&nbsp;&nbsp; a) Out of Place Algorithm <br>\n",
    " &nbsp;&nbsp;&nbsp;&nbsp; b) In-Class Exercise #1 <br>\n",
    "2) <b>Two Pointers</b> <br>\n",
    "3) <b>Linked Lists</b> <br>\n",
    "4) <b>Merge Sort</b> <br>\n",
    " &nbsp;&nbsp;&nbsp;&nbsp; a) Video on Algorithms <br>\n",
    " &nbsp;&nbsp;&nbsp;&nbsp; b) How it Works <br>\n",
    "5) <b>Exercises</b> <br>\n",
    " &nbsp;&nbsp;&nbsp;&nbsp; a) Exercise #1 - Reverse a List in Place Using an In-Place Algorithm <br>\n",
    " &nbsp;&nbsp;&nbsp;&nbsp; b) Exercise #2 - Find Distinct Words <br>\n",
    " &nbsp;&nbsp;&nbsp;&nbsp; c) Exercise #3 - Write a program to implement a Linear Search Algorithm. <br>"
   ]
  },
  {
   "cell_type": "markdown",
   "metadata": {},
   "source": [
    "## In-Place Algorithms"
   ]
  },
  {
   "cell_type": "markdown",
   "metadata": {},
   "source": [
    "#### Syntax"
   ]
  },
  {
   "cell_type": "code",
   "execution_count": 2,
   "metadata": {},
   "outputs": [
    {
     "name": "stdout",
     "output_type": "stream",
     "text": [
      "Before swap: [1, 2, 3]\n",
      "[3, 2, 1]\n"
     ]
    }
   ],
   "source": [
    "# otherwise known as swap algorithms\n",
    "# can do with any mutable data types: lists, sets, dictionaries\n",
    "\n",
    "def swap(a_list, x, y, z):\n",
    "    a_list[x], a_list[y], a_list[z] = a_list[z], a_list[y], a_list[x]\n",
    "    return a_list\n",
    "\n",
    "my_list = [1, 2, 3]\n",
    "print(f\"Before swap: {my_list}\")\n",
    "# 0, 1, 2 are the indicies you want to replace, not the numbers you want swapped in\n",
    "print(swap(my_list, 0, 1, 2))\n"
   ]
  },
  {
   "cell_type": "markdown",
   "metadata": {},
   "source": [
    "#### Out of Place Algorithm"
   ]
  },
  {
   "cell_type": "code",
   "execution_count": 5,
   "metadata": {},
   "outputs": [
    {
     "name": "stdout",
     "output_type": "stream",
     "text": [
      "['f', 'e', 'd', 'c', 'b', 'a']\n",
      "['a', 'b', 'c', 'd', 'e', 'f']\n",
      "['f', 'e', 'd', 'c', 'b', 'a']\n"
     ]
    }
   ],
   "source": [
    "my_list = ['a', 'b', 'c', 'd', 'e', 'f']\n",
    "print(my_list[::-1])\n",
    "print(my_list) # shows list change didn't save. \n",
    "\n",
    "new_list = my_list[::-1] # must save to variable to save changes\n",
    "print(new_list)\n",
    "\n",
    "# in place you're manipulating or modidying it's value or a variable without changing the variable\n",
    "# out of place, you're setting a new variable when referencing the old variable"
   ]
  },
  {
   "cell_type": "markdown",
   "metadata": {},
   "source": [
    "#### In-Class Exercise #1 <br>\n",
    "<p>Write a function that takes in four arguments (list, index1, index2, index3), and swaps those three positions in the list passed in.</p>"
   ]
  },
  {
   "cell_type": "code",
   "execution_count": 8,
   "metadata": {},
   "outputs": [
    {
     "name": "stdout",
     "output_type": "stream",
     "text": [
      "[10, 4, 3, 8, 4, 2, 6]\n",
      "[10, 8, 3, 4, 4, 2, 6]\n"
     ]
    }
   ],
   "source": [
    "l_1 = [10, 4, 3, 8, 4, 2, 6]\n",
    "\n",
    "print(l_1)\n",
    "\n",
    "def swap(list, index1, index2, index3):\n",
    "    list[index1], list[index2], list[index3] = list[index3], list[index2], list[index1]\n",
    "    return list\n",
    "\n",
    "print(swap(l_1, 1, 2, 3))\n"
   ]
  },
  {
   "cell_type": "markdown",
   "metadata": {},
   "source": [
    "## Two Pointers"
   ]
  },
  {
   "cell_type": "markdown",
   "metadata": {},
   "source": [
    "#### Syntax"
   ]
  },
  {
   "cell_type": "code",
   "execution_count": 10,
   "metadata": {},
   "outputs": [
    {
     "name": "stdout",
     "output_type": "stream",
     "text": [
      "[11, 10, 9, 8, 7, 6, 5, 4, 3, 2, 1]\n"
     ]
    }
   ],
   "source": [
    "# allows us to look at two things at once, otherwise known as sliding windows\n",
    "test_list = [1, 2, 3, 4, 5, 6, 7, 8, 9, 10, 11]\n",
    "\n",
    "def two_pointer(a_list):\n",
    "    left = 0 # looks at index of 0\n",
    "    right = len(a_list) - 1 # looks at last index in list\n",
    "\n",
    "    while left <= right: # right should never be less than left\n",
    "        a_list[left], a_list[right] = a_list[right], a_list[left]\n",
    "        left += 1\n",
    "        right -= 1\n",
    "    \n",
    "    return a_list\n",
    "\n",
    "print(two_pointer(test_list))"
   ]
  },
  {
   "cell_type": "markdown",
   "metadata": {},
   "source": [
    "#### Video of Algorithms <br>\n",
    "<p>Watch the video about algorithms.</p>\n",
    "\n",
    "https://www.youtube.com/watch?v=Q9HjeFD62Uk\n",
    "\n",
    "https://www.youtube.com/watch?v=kPRA0W1kECg\n",
    "\n",
    "https://www.youtube.com/watch?v=ZZuD6iUe3Pc"
   ]
  },
  {
   "cell_type": "markdown",
   "metadata": {},
   "source": [
    "# Sorting Algorithms"
   ]
  },
  {
   "cell_type": "markdown",
   "metadata": {},
   "source": [
    "#### Bubble Sort\n",
    "\n",
    "Worst Case: O(n^2) Time - O(1) Space"
   ]
  },
  {
   "cell_type": "code",
   "execution_count": 15,
   "metadata": {},
   "outputs": [
    {
     "name": "stdout",
     "output_type": "stream",
     "text": [
      "1\n",
      "[2, 7, 12, 5, 8, 9, 6]\n",
      "[2, 7, 12, 5, 8, 9, 6]\n",
      "[2, 7, 5, 12, 8, 9, 6]\n",
      "[2, 7, 5, 8, 12, 9, 6]\n",
      "[2, 7, 5, 8, 9, 12, 6]\n",
      "[2, 7, 5, 8, 9, 6, 12]\n",
      "2\n",
      "[2, 7, 5, 8, 9, 6, 12]\n",
      "[2, 5, 7, 8, 9, 6, 12]\n",
      "[2, 5, 7, 8, 9, 6, 12]\n",
      "[2, 5, 7, 8, 9, 6, 12]\n",
      "[2, 5, 7, 8, 6, 9, 12]\n",
      "[2, 5, 7, 8, 6, 9, 12]\n",
      "3\n",
      "[2, 5, 7, 8, 6, 9, 12]\n",
      "[2, 5, 7, 8, 6, 9, 12]\n",
      "[2, 5, 7, 8, 6, 9, 12]\n",
      "[2, 5, 7, 6, 8, 9, 12]\n",
      "[2, 5, 7, 6, 8, 9, 12]\n",
      "[2, 5, 7, 6, 8, 9, 12]\n",
      "4\n",
      "[2, 5, 7, 6, 8, 9, 12]\n",
      "[2, 5, 7, 6, 8, 9, 12]\n",
      "[2, 5, 6, 7, 8, 9, 12]\n",
      "[2, 5, 6, 7, 8, 9, 12]\n",
      "[2, 5, 6, 7, 8, 9, 12]\n",
      "[2, 5, 6, 7, 8, 9, 12]\n",
      "5\n",
      "[2, 5, 6, 7, 8, 9, 12]\n",
      "[2, 5, 6, 7, 8, 9, 12]\n",
      "[2, 5, 6, 7, 8, 9, 12]\n",
      "[2, 5, 6, 7, 8, 9, 12]\n",
      "[2, 5, 6, 7, 8, 9, 12]\n",
      "[2, 5, 6, 7, 8, 9, 12]\n",
      "[2, 5, 6, 7, 8, 9, 12]\n"
     ]
    }
   ],
   "source": [
    "# look up bubble sort visual online to visulize it - hackerearth.com to see bubble, insertion, and merge\n",
    "\n",
    "def bubble_sort(a_list):\n",
    "    # use a flag - used in while loops to break out of while loop once condition is met\n",
    "    isSorted = False\n",
    "    passes = 0\n",
    "    \n",
    "    while not isSorted:\n",
    "        passes += 1\n",
    "        print(passes)\n",
    "        isSorted = True\n",
    "        for i in range(len(a_list) - 1):\n",
    "            if a_list[i] > a_list[i + 1]:\n",
    "                swap(i, i + 1, a_list) # indicies, and calling swap function from below\n",
    "                isSorted = False # something was wrong within this check, so its False again\n",
    "            print(a_list)\n",
    "    return a_list \n",
    "\n",
    "\n",
    "def swap(i, j, a_list):\n",
    "    a_list[i], a_list[j] = a_list[j], a_list[i]\n",
    "    return a_list\n",
    "\n",
    "test_list = [2, 7, 12, 5, 8, 9, 6]\n",
    "\n",
    "print(bubble_sort(test_list))"
   ]
  },
  {
   "cell_type": "markdown",
   "metadata": {},
   "source": [
    "##### Insertion Sort\n",
    "\n",
    "Worst Case: O(n^2) time - O(1)space"
   ]
  },
  {
   "cell_type": "code",
   "execution_count": 19,
   "metadata": {},
   "outputs": [
    {
     "name": "stdout",
     "output_type": "stream",
     "text": [
      "1\n",
      "2\n",
      "3\n",
      "[2, 7, 5, 12, 8, 9, 6]\n",
      "[2, 5, 7, 12, 8, 9, 6]\n",
      "4\n",
      "[2, 5, 7, 8, 12, 9, 6]\n",
      "5\n",
      "[2, 5, 7, 8, 9, 12, 6]\n",
      "6\n",
      "[2, 5, 7, 8, 9, 6, 12]\n",
      "[2, 5, 7, 8, 6, 9, 12]\n",
      "[2, 5, 7, 6, 8, 9, 12]\n",
      "[2, 5, 6, 7, 8, 9, 12]\n",
      "[2, 5, 6, 7, 8, 9, 12]\n"
     ]
    }
   ],
   "source": [
    "def inserstionSort(a_list):\n",
    "    for i in range(1, len(a_list)):\n",
    "        print(i)\n",
    "        while i > 0 and a_list[i] < a_list[i - 1]:\n",
    "            swap(i, i - 1, a_list)\n",
    "            print(a_list)\n",
    "            i -= 1\n",
    "    return a_list\n",
    "\n",
    "def swap(i, j, a_list):\n",
    "    a_list[i], a_list[j] = a_list[j], a_list[i]\n",
    "    return a_list\n",
    "\n",
    "test_list = [2, 7, 12, 5, 8, 9, 6]\n",
    "print(inserstionSort(test_list))"
   ]
  },
  {
   "cell_type": "markdown",
   "metadata": {},
   "source": [
    "## Merge Sort"
   ]
  },
  {
   "cell_type": "markdown",
   "metadata": {},
   "source": [
    "#### How it Works"
   ]
  },
  {
   "cell_type": "code",
   "execution_count": 24,
   "metadata": {},
   "outputs": [
    {
     "data": {
      "text/plain": [
       "[2, 3, 5, 5, 6, 8, 9]"
      ]
     },
     "execution_count": 24,
     "metadata": {},
     "output_type": "execute_result"
    }
   ],
   "source": [
    "# a_list = [8, 5, 2, 9, 5, 6, 3]\n",
    "\n",
    "# Step 1: Split everything into it's own group\n",
    "# Step 2: From left to right merge two groups together\n",
    "# Step 3: While merging, place each item in the correct position\n",
    "\n",
    "# Step 1: Divide the a_list into equal parts (as much as possible)\n",
    "def mergeSort(a_list):\n",
    "    if len(a_list) > 1:\n",
    "        middle = len(a_list) // 2\n",
    "        left_half = a_list[:middle]\n",
    "        right_half = a_list[middle:]\n",
    "        \n",
    "        # recursively call mergeSort to perform splits\n",
    "        # then merge once splits are done\n",
    "        mergeSort(left_half)\n",
    "        mergeSort(right_half)\n",
    "        \n",
    "        # index pointers for our a_list\n",
    "        i = 0 # pointer for left half\n",
    "        j = 0 # pointer for right half\n",
    "        k = 0 # pointer for main a_list\n",
    "        \n",
    "        # Step 2: Compare the left_half and right_half\n",
    "        while i < len(left_half) and j < len(right_half):\n",
    "            if left_half[i] < right_half[j]:\n",
    "                a_list[k] = left_half[i]\n",
    "                i += 1\n",
    "            else:\n",
    "                a_list[k] = right_half[j]\n",
    "                j += 1\n",
    "            k += 1\n",
    "        \n",
    "        # Step 3: While merging place items in correct position\n",
    "        while i < len(left_half):\n",
    "            a_list[k] = left_half[i]\n",
    "            i += 1\n",
    "            k += 1\n",
    "        while j < len(right_half):\n",
    "            a_list[k] = right_half[j]\n",
    "            j += 1\n",
    "            k += 1\n",
    "    return a_list\n",
    "\n",
    "mergeSort([8, 5, 2, 9, 5, 6, 3])\n",
    "\n",
    "# only thing you need to know if someone asks you about merge sort is be able to show on a diagram\n",
    "# about the splits. Be able to explain and show drawing.\n"
   ]
  },
  {
   "cell_type": "markdown",
   "metadata": {},
   "source": [
    "# Binary Search\n",
    "\n",
    "The Binary Search algorithm works by finding the number in the middle of a given array and comparing it to the target. Given that the array is sorted\n",
    "\n",
    "* The worst case run time for this algorithm is `O(log(n))`"
   ]
  },
  {
   "cell_type": "code",
   "execution_count": 34,
   "metadata": {},
   "outputs": [
    {
     "data": {
      "text/plain": [
       "'Found 33 at index 3.'"
      ]
     },
     "execution_count": 34,
     "metadata": {},
     "output_type": "execute_result"
    }
   ],
   "source": [
    "def binarySearch(a_list, target):\n",
    "    left = 0\n",
    "    right = len(a_list)\n",
    "    while left <= right:\n",
    "        middle = (left + right) // 2\n",
    "        potential_match = a_list[middle]\n",
    "\n",
    "        if target == potential_match:\n",
    "            return f\"Found {target} at index {middle}.\"\n",
    "        elif target < potential_match:\n",
    "            right = middle - 1\n",
    "        else:\n",
    "            left = middle + 1\n",
    "    # edge case\n",
    "    return \"Target not found\"\n",
    "\n",
    "binarySearch([0, 1, 21, 33, 45, 45, 61, 71, 72, 73], 33)"
   ]
  },
  {
   "cell_type": "markdown",
   "metadata": {},
   "source": [
    "# Exercises"
   ]
  },
  {
   "cell_type": "markdown",
   "metadata": {},
   "source": [
    "### Exercise #1 <br>\n",
    "<p>Reverse the list below in-place using an in-place algorithm.<br>For extra credit: Reverse the strings at the same time.</p>"
   ]
  },
  {
   "cell_type": "code",
   "execution_count": 41,
   "metadata": {},
   "outputs": [
    {
     "name": "stdout",
     "output_type": "stream",
     "text": [
      "['.', 'ecnetnes', 'a', 'si', 'siht']\n"
     ]
    }
   ],
   "source": [
    "# try to make it so that any list can work\n",
    "\n",
    "words = ['this' , 'is', 'a', 'sentence', '.']\n",
    "\n",
    "def reverse_in_place(li):\n",
    "    left = 0\n",
    "    right = len(li) - 1\n",
    "    while left <= right:\n",
    "        li[left], li[right] = li[right], li[left]\n",
    "        left += 1\n",
    "        right -= 1\n",
    "\n",
    "    li = [''.join(reversed(word)) for word in li]\n",
    "    \n",
    "    return li\n",
    "\n",
    "print(reverse_in_place(words))\n"
   ]
  },
  {
   "cell_type": "markdown",
   "metadata": {},
   "source": [
    "### Exercise #2 <br>\n",
    "<p>Create a function that counts how many distinct words are in the string below, then outputs a dictionary with the words as the key and the value as the amount of times that word appears in the string.<br>Should output:<br>{'a': 5,<br>\n",
    " 'abstract': 1,<br>\n",
    " 'an': 3,<br>\n",
    " 'array': 2, ... etc...</p>"
   ]
  },
  {
   "cell_type": "code",
   "execution_count": 64,
   "metadata": {},
   "outputs": [
    {
     "name": "stdout",
     "output_type": "stream",
     "text": [
      "{',': 2, '.': 1, 'a': 5, 'in': 1, 'abstract': 1, 'an': 3, 'array': 2, 'associative': 1, 'be': 1, 'buckets': 1, 'can': 2, 'compute': 1, 'computing': 1, 'data': 2, 'desired': 1, 'found': 1, 'from': 1, 'function': 1, 'hash': 4, 'implements': 1, 'index': 1, 'into': 1, 'is': 1, 'keys': 1, 'map': 2, 'of': 1, 'or': 1, 'slots': 1, 'structure': 2, 'table': 2, 'that': 1, 'the': 1, 'to': 2, 'type': 1, 'uses': 1, 'value': 1, 'values': 1, 'which': 2}\n",
      "{'a': 5, 'in': 1, 'abstract': 1, 'an': 3, 'array': 2, 'associative': 1, 'be': 1, 'buckets': 1, 'can': 2, 'compute': 1, 'computing,': 1, 'data': 2, 'desired': 1, 'found': 1, 'from': 1, 'function': 1, 'hash': 4, 'implements': 1, 'index': 1, 'into': 1, 'is': 1, 'keys': 1, 'map': 2, 'of': 1, 'or': 1, 'slots': 1, 'structure': 2, 'table': 2, 'that': 1, 'the': 1, 'to': 2, 'type,': 1, 'uses': 1, 'value': 1, 'values.': 1, 'which': 2}\n"
     ]
    }
   ],
   "source": [
    "# First solution using regex, this solution accounts for commas and periods\n",
    "import re\n",
    "\n",
    "a_text = 'In computing, a hash table hash map is a data structure which implements an associative array abstract data type, a structure that can map keys to values. A hash table uses a hash function to compute an index into an array of buckets or slots from which the desired value can be found'\n",
    "\n",
    "def words_in_string(string):\n",
    "    # split the string into an iterable list, sort for readability \n",
    "    find_in_string = sorted(re.findall(r'\\w+|[^\\s\\w]+', string)) \n",
    "    # create an empty dictionary\n",
    "    wordCount = {}\n",
    "    # iterate through the split string\n",
    "    for word in find_in_string:\n",
    "        # check if the word is not already in a dictionary, and add a value of 1\n",
    "        if word not in wordCount:\n",
    "            wordCount[word.lower()] = 1\n",
    "        else:\n",
    "            # if word is already in the dictionary, add one to its current value\n",
    "            wordCount[word.lower()] += 1\n",
    "    \n",
    "    # return dictionary\n",
    "    return wordCount\n",
    "\n",
    "print(words_in_string(a_text))\n",
    "\n",
    "# ------------------------------------------------------------------------------------------ #\n",
    "\n",
    "# Second solution using split()\n",
    "\n",
    "def words_in_string2(string):\n",
    "    # split the string into an iterable list, sort for readability \n",
    "    split_string = sorted(string.split(' '))\n",
    "    # create an empty dictionary\n",
    "    wordCount = {}\n",
    "    # iterate through the split string\n",
    "    for word in split_string:\n",
    "        # check if the word is not already in a dictionary, and add a value of 1\n",
    "        if word not in wordCount:\n",
    "            wordCount[word.lower()] = 1\n",
    "        else:\n",
    "            # if word is already in the dictionary, add one to its current value\n",
    "            wordCount[word.lower()] += 1\n",
    "    \n",
    "    # return dictionary\n",
    "    return wordCount\n",
    "\n",
    "print(words_in_string2(a_text))\n",
    "# print(words_in_string(test_second_string))"
   ]
  },
  {
   "cell_type": "markdown",
   "metadata": {},
   "source": [
    "## Exercise #3\n",
    "\n",
    "Write a program to implement a Linear Search Algorithm. Also in a comment, write the Time Complexity of the following algorithm.\n",
    "\n",
    "#### Hint: Linear Searching will require searching a list for a given number. "
   ]
  },
  {
   "cell_type": "code",
   "execution_count": 67,
   "metadata": {},
   "outputs": [
    {
     "name": "stdout",
     "output_type": "stream",
     "text": [
      "Element found at index: 1\n"
     ]
    }
   ],
   "source": [
    "def linearSearch(array, n, x):\n",
    "    # loop through the list \n",
    "    for i in range(0, n):\n",
    "        if (array[i] == x):\n",
    "            return i\n",
    "    return -1\n",
    "\n",
    "\n",
    "array = [2, 4, 0, 1, 9]\n",
    "x = 4\n",
    "n = len(array)\n",
    "result = linearSearch(array, n, x)\n",
    "\n",
    "if (result == -1):\n",
    "    print(\"Element not found\")\n",
    "else:\n",
    "    print(f\"Element found at index: {result}\")\n",
    "\n",
    "# time complexity would be O(n) for Linear Time"
   ]
  }
 ],
 "metadata": {
  "kernelspec": {
   "display_name": "Python 3",
   "language": "python",
   "name": "python3"
  },
  "language_info": {
   "codemirror_mode": {
    "name": "ipython",
    "version": 3
   },
   "file_extension": ".py",
   "mimetype": "text/x-python",
   "name": "python",
   "nbconvert_exporter": "python",
   "pygments_lexer": "ipython3",
   "version": "3.10.9"
  },
  "vscode": {
   "interpreter": {
    "hash": "882d6d1debee3847559d48c70282ef1c25bc8ba334c5dc858c19769229bbc1e5"
   }
  }
 },
 "nbformat": 4,
 "nbformat_minor": 2
}
